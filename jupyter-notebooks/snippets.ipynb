{
 "cells": [
  {
   "cell_type": "markdown",
   "metadata": {},
   "source": [
    "# Interactive"
   ]
  },
  {
   "cell_type": "code",
   "execution_count": null,
   "metadata": {},
   "outputs": [],
   "source": [
    "from __future__ import print_function\n",
    "from ipywidgets import interact, interactive, fixed, interact_manual\n",
    "import ipywidgets as widgets\n",
    "\n",
    "## https://matplotlib.org/examples/pylab_examples/multicolored_line.html\n",
    "## https://stackoverflow.com/questions/8945699/gnuplot-linecolor-variable-in-matplotlib\n",
    "## from matplotlib.collections import LineCollection\n",
    "#points = data[:,0:2].reshape(-1, 1, 2)\n",
    "#segments = numpy.concatenate([points[:-1], points[1:]], axis=1)\n",
    "#lc = LineCollection(segments, cmap=plt.get_cmap('gnuplot2'),\n",
    "#                    norm=plt.Normalize(0, 1))\n",
    "#lc.set_array(data[:,2])\n",
    "#lc.set_linewidth(3)\n",
    "#ax.add_collection(lc)"
   ]
  },
  {
   "cell_type": "code",
   "execution_count": null,
   "metadata": {},
   "outputs": [],
   "source": [
    "def update(q00=3.6,q10=7.6,iternum=15):\n",
    "    quantity = numpy.zeros([iternum,3])\n",
    "    quantity[0,0] = q00\n",
    "    quantity[0,1] = q10\n",
    "    \n",
    "    for i in range(1, iternum):\n",
    "        quantity[i,0] = best_response(a,b,c[0],quantity[i-1,1])\n",
    "        quantity[i,1] = best_response(a,b,c[1],quantity[i-1,0])\n",
    "        quantity[i,2] = i/iternum\n",
    "    \n",
    "    make_plot(quantity)\n",
    "    \n",
    "wwa = widgets.IntSlider(min=0,max=10,step=2,value=3.6)\n",
    "wwb = widgets.IntSlider(min=0,max=10,step=1,value=7.6)\n",
    "wwc = widgets.IntSlider(min=2,max=20,step=1,value=15)\n",
    "interact(update,q00=wwa,q10=wwb,iternum=wwc);\n",
    "\n",
    "\n",
    "wwa = widgets.IntSlider(min=0,max=100,step=1,value=3.6)\n",
    "wwb = widgets.IntSlider(min=0,max=100,step=1,value=7.6)\n",
    "wwc = widgets.IntSlider(min=2,max=20,step=1,value=15)\n",
    "f,(ax1,ax2)=plt.subplots(1,2,figsize=(16,8),dpi=220, facecolor='w', edgecolor='k')\n",
    "line1, = ax1.plot(data[:,0],label=\"first player\")\n",
    "line2, = ax1.plot(data[:,1],label=\"second player\")\n",
    "line3, = ax2.plot(data[:,0],data[:,1],'.--',label=\"strategy profile\")\n",
    "def update():\n",
    "    line1.set_data(data[:,0])\n",
    "        \n",
    "        \n",
    "        "
   ]
  },
  {
   "cell_type": "markdown",
   "metadata": {},
   "source": [
    "### ISD"
   ]
  },
  {
   "cell_type": "code",
   "execution_count": null,
   "metadata": {},
   "outputs": [],
   "source": [
    "payoff_matrix = numpy.zeros([6,3])\n",
    "\n",
    "payoff_matrix[:3,:] = [ [ 2,3,2],[3,4,5],[5,2,4]]\n",
    "payoff_matrix[3:,:] = [ [ 3,0,1],[0,3,5],[1,2,1]]"
   ]
  },
  {
   "cell_type": "code",
   "execution_count": null,
   "metadata": {},
   "outputs": [],
   "source": [
    "num_iter = 10000\n",
    "strategy = numpy.zeros([num_iter,3,2])\n",
    "empirical = numpy.zeros([num_iter,3,2])\n",
    "empirical[0,0,0]=1\n",
    "empirical[0,0,1]=1\n",
    "payoffs = numpy.zeros([3,2])\n",
    "\n",
    "for i in range(1,num_iter):\n",
    "    \n",
    "    # calculate payoff of player 1 assuming the other player plays according to empirical dist.\n",
    "    payoffs[0,0] = empirical[i-1,0,1]*payoff_matrix[0,0] + empirical[i-1,1,1]*payoff_matrix[0,1] + empirical[i-1,2,1]*payoff_matrix[0,2]\n",
    "    payoffs[1,0] = empirical[i-1,0,1]*payoff_matrix[1,0] + empirical[i-1,1,1]*payoff_matrix[1,1] + empirical[i-1,2,1]*payoff_matrix[1,2]\n",
    "    payoffs[2,0] = empirical[i-1,0,1]*payoff_matrix[2,0] + empirical[i-1,1,1]*payoff_matrix[2,1] + empirical[i-1,2,1]*payoff_matrix[2,2]\n",
    "\n",
    "    # calculate payoff of player 2 assuming the other player plays according to empirical dist.\n",
    "    payoffs[0,1] = empirical[i-1,0,0]*payoff_matrix[3,0] + empirical[i-1,1,0]*payoff_matrix[4,0] + empirical[i-1,2,0]*payoff_matrix[5,0]\n",
    "    payoffs[1,1] = empirical[i-1,0,0]*payoff_matrix[3,1] + empirical[i-1,1,0]*payoff_matrix[4,1] + empirical[i-1,2,0]*payoff_matrix[5,1]\n",
    "    payoffs[2,1] = empirical[i-1,0,0]*payoff_matrix[3,2] + empirical[i-1,1,0]*payoff_matrix[4,2] + empirical[i-1,2,0]*payoff_matrix[5,2]\n",
    "\n",
    "\n",
    "    # player 1's best response\n",
    "    if payoffs[:,0].max() == payoffs[:,0].min():\n",
    "        strategy[i,:,0] = strategy[i-1,:,0]\n",
    "    else:\n",
    "        strategy[i,payoffs[:,0].argmax(),0] = 1.0\n",
    "    \n",
    "    \n",
    "\n",
    "    # player 2's best response\n",
    "    if payoffs[:,1].max() == payoffs[:,1].min():\n",
    "        strategy[i,:,1] = strategy[i-1,:,1]        \n",
    "    else:\n",
    "        strategy[i,payoffs[:,1].argmax(),1] = 1.0\n",
    "    \n",
    "\n",
    "    # update the empirical distribution\n",
    "    empirical[i,:,0] = ((i-1)*empirical[i-1,:,0] + strategy[i,:,0])/i\n",
    "    empirical[i,:,1] = ((i-1)*empirical[i-1,:,1] + strategy[i,:,1])/i\n",
    "        \n",
    "    # store the (normalized) number of iterations\n",
    "    #strategy[i,2] = i/num_iter\n",
    "    #empirical[i,2] = i/num_iter\n",
    "\n",
    "#empirical    \n",
    "    \n",
    "f,ax1=plt.subplots(1,1,figsize=(16,8),dpi=220, facecolor='w', edgecolor='k')\n",
    "ax1.plot(empirical[:,0,0],label=\"first player\")\n",
    "ax1.plot(empirical[:,0,1],label=\"second player\")\n",
    "ax1.set_xlabel(\"iterations\")\n",
    "ax1.set_ylabel(\"strategy\")\n",
    "ax1.legend(loc=\"upper right\", bbox_to_anchor=(1,-0.05))  \n",
    "plt.show()\n",
    "\n",
    "make_plot(empirical[:,0,0])"
   ]
  },
  {
   "cell_type": "code",
   "execution_count": null,
   "metadata": {},
   "outputs": [],
   "source": [
    "empirical[num_iter-1,:,0]"
   ]
  },
  {
   "cell_type": "code",
   "execution_count": null,
   "metadata": {},
   "outputs": [],
   "source": [
    "empirical[num_iter-1,:,1]"
   ]
  },
  {
   "cell_type": "code",
   "execution_count": null,
   "metadata": {},
   "outputs": [],
   "source": [
    "plt.plot(empirical[:,0,0],empirical[:,1,0],'--')\n",
    "plt.show()"
   ]
  },
  {
   "cell_type": "code",
   "execution_count": null,
   "metadata": {},
   "outputs": [],
   "source": [
    "from mpl_toolkits.mplot3d import Axes3D\n",
    "fig = plt.figure()\n",
    "ax = fig.add_subplot(111, projection='3d')\n",
    "\n",
    "ax.plot(empirical[:,0,0],empirical[:,1,0], empirical[:,2,0],zdir='y')\n",
    "ax.plot(empirical[:,0,1],empirical[:,1,1], empirical[:,2,1],zdir='y')\n",
    "plt.show()"
   ]
  }
 ],
 "metadata": {
  "kernelspec": {
   "display_name": "Python 3",
   "language": "python",
   "name": "python3"
  },
  "language_info": {
   "codemirror_mode": {
    "name": "ipython",
    "version": 3
   },
   "file_extension": ".py",
   "mimetype": "text/x-python",
   "name": "python",
   "nbconvert_exporter": "python",
   "pygments_lexer": "ipython3",
   "version": "3.7.2"
  },
  "latex_envs": {
   "LaTeX_envs_menu_present": true,
   "autoclose": false,
   "autocomplete": true,
   "bibliofile": "biblio.bib",
   "cite_by": "apalike",
   "current_citInitial": 1,
   "eqLabelWithNumbers": true,
   "eqNumInitial": 1,
   "hotkeys": {
    "equation": "Ctrl-E",
    "itemize": "Ctrl-I"
   },
   "labels_anchors": false,
   "latex_user_defs": false,
   "report_style_numbering": false,
   "user_envs_cfg": false
  }
 },
 "nbformat": 4,
 "nbformat_minor": 2
}
